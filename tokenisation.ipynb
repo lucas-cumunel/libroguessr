{
 "cells": [
  {
   "cell_type": "markdown",
   "metadata": {},
   "source": [
    "les pip :\n",
    "spacy\n",
    "spacy-lefff\n",
    "collections\n",
    "pandas\n",
    "git+https://github.com/ClaudeCoulombe/FrenchLefffLemmatizer.git\n",
    "\n",
    "le reste :\n",
    "spacy download fr_core_news_sm "
   ]
  },
  {
   "cell_type": "code",
   "execution_count": 66,
   "metadata": {},
   "outputs": [],
   "source": [
    "#Imports\n",
    "import spacy \n",
    "#from spacy_lefff import LefffLemmatizer --> utile ?\n",
    "from french_lefff_lemmatizer.french_lefff_lemmatizer import FrenchLefffLemmatizer\n",
    "import pandas as pd\n",
    "import matplotlib.pyplot as plt\n",
    "from collections import Counter"
   ]
  },
  {
   "cell_type": "code",
   "execution_count": 36,
   "metadata": {},
   "outputs": [],
   "source": [
    "#Reader/set up\n",
    "#lire csv et convert en table\n",
    "#table=pd.Dataframe(data=, columns=[\"Titre\",\"Texte\"])\n",
    "nlp = spacy.load(\"fr_core_news_sm\")  #modèle français\n",
    "stop_words_fr = nlp.Defaults.stop_words #liste de stopwords fr"
   ]
  },
  {
   "cell_type": "code",
   "execution_count": 58,
   "metadata": {},
   "outputs": [
    {
     "name": "stdout",
     "output_type": "stream",
     "text": [
      "['malheureux', 'dantè', 'désespèr', 'captivité', '4', 'an', 'songer', 'suicide', '.', 'chance', 'faire', 'connaissance', 'abbé', 'faria', ','] \n",
      " ['malheureux', 'Dantès', 'désespérer', 'captivité', 'an', 'songer', 'suicide', '.', 'chance', 'faire', 'connaissance', 'abbé', 'Faria', ',', 'prisonnier']\n"
     ]
    }
   ],
   "source": [
    "#Lemmatiseurs\n",
    "def lemmatizer (txt) :\n",
    "    txt_lemma =[t.lemma_ for t in nlp(txt)]\n",
    "    txt_lemma = [t for t in txt_lemma if t not in stop_words_fr]#lemmes sans les stopswords\n",
    "\n",
    "    \n",
    "    return txt_lemma #peu précis (NP pas tj reconnus, vb quand faut pas...)\n",
    "\n",
    "def CC_lemmatizer (txt) :\n",
    "    txt_token =[t.text for t in nlp(txt) if t.text not in stop_words_fr]#mieux que juste split et stop_words pour éviter des erreurs de lecture\n",
    "    lemmatizer = FrenchLefffLemmatizer()\n",
    "    lemma_CC=[lemmatizer.lemmatize(t,'all')[0] for t in txt_token if len(lemmatizer.lemmatize(t,'all'))!=0]#cette fonction prend les textes et non la version fr_core_news_sm\n",
    "    txt_lemma_CC=[t[0] for t in lemma_CC if t[0] not in stop_words_fr]#que lemmes CC\n",
    "    return txt_lemma_CC #meilleur mais perte des chiffres\n",
    "\n",
    "#Exemple    \n",
    "sample_txt=\"Le malheureux Dantès désespère dans sa captivité pendant 4 ans jusqu'à songer au suicide. Il a la chance de faire la connaissance de l'abbé Faria, un autre prisonnier qui, voulant s'évader, a creusé un tunnel qui débouche non sur la mer mais dans la cellule de Dantès, et sauve Dantès qui se laissait mourir de faim. Edmond Dantès découvre alors en l'abbé Faria une personne exceptionnelle, érudit dans tous les domaines scientifiques et philosophiques. L'abbé Faria fait la lumière sur le complot machiné contre Edmond en lui montrant son écriture de la main gauche qui ressemble étrangement à celle de la lettre et en lui expliquant que M. Noirtier est en réalité le père de Villefort. Ces révélations instillent la vengeance dans le cœur d'Edmond. L'abbé Faria, très érudit, se lie d'amitié avec Dantès et lui donne une éducation exceptionnelle tant en économie qu'en sciences, en politique, en philosophie mais aussi en langues. Faria fait une première crise de catalepsie qui le laisse paralysé d'un bras et d'une jambe rendant ainsi l'évasion qu'ils préparaient impossible. Il lui fait alors part d'un secret qui le fait lui-même passer pour fou aux yeux de ses geôliers et, pendant un court moment, de Dantès : il est le dépositaire d'un immense trésor, celui des Spada, enfoui depuis des siècles dans l'île de Monte Cristo. Le vieux prêtre meurt d'un troisième accès et Edmond, pensant pouvoir s'échapper, prend la place du cadavre dans le linceul, en se munissant d'un couteau au cas où il serait découvert. Il comprend au dernier moment que tous les prisonniers morts en captivité sont jetés à la mer avec aux pieds un boulet de trente-six1 au château d'If et se libère grâce à son couteau. Sa captivité aura duré quinze ans. Edmond nage jusqu'à l'île de Tiboulen et est récupéré par un bateau de contrebandiers avec lesquels il noue des liens. C'est grâce à ce bateau, sur lequel il travaille temporairement comme marin, qu'il parvient à atteindre l'île de Monte-Cristo. Devenu très riche grâce au trésor des Spada dont il prend possession, Dantès retourne à Marseille où il apprend la mort de son père et constate la disparition de ses quatre « amis » : Danglars, Fernand, Caderousse et Villefort.\"\n",
    "\n",
    "sample_lemma=lemmatizer(sample_txt)\n",
    "sample_lemma_CC=CC_lemmatizer(sample_txt)\n",
    "print(sample_lemma[:15],\"\\n\",sample_lemma_CC[:15])\n",
    "\n"
   ]
  },
  {
   "cell_type": "code",
   "execution_count": 62,
   "metadata": {},
   "outputs": [
    {
     "name": "stdout",
     "output_type": "stream",
     "text": [
      "             Word   Type  Count\n",
      "Order                          \n",
      "14              ,  PUNCT     21\n",
      "8               .  PUNCT     14\n",
      "10          faire   VERB      5\n",
      "32         Edmond  PROPN      5\n",
      "12           abbé   NOUN      4\n",
      "...           ...    ...    ...\n",
      "216           ami   NOUN      1\n",
      "217             »  PROPN      1\n",
      "219      Danglars  PROPN      1\n",
      "221       Fernand  PROPN      1\n",
      "223    Caderousse  PROPN      1\n",
      "\n",
      "[145 rows x 3 columns] \n",
      "\n",
      "              Word   Type  Count\n",
      "Order                          \n",
      "10              ,  PUNCT     21\n",
      "5               .  PUNCT     14\n",
      "21         Dantès  PROPN      7\n",
      "26         Edmond  PROPN      5\n",
      "60          Faria  PROPN      5\n",
      "...           ...    ...    ...\n",
      "179           ami   NOUN      1\n",
      "180             »  PROPN      1\n",
      "182      Danglars  PROPN      1\n",
      "184       Fernand  PROPN      1\n",
      "186    Caderousse  PROPN      1\n",
      "\n",
      "[119 rows x 3 columns]\n"
     ]
    }
   ],
   "source": [
    "#Stats\n",
    "def summary_table (txt,txt_lemma) :   \n",
    "    txt_type=[(t.lemma_,t.tag_) for t in nlp(txt)]\n",
    "\n",
    "    d_type=pd.DataFrame(data=txt_type, columns=['Word','Type'])\n",
    "    tk_count=Counter(txt_lemma)\n",
    "    d_count=pd.DataFrame.from_dict(data=tk_count,orient='index',columns=[\"Count\"])\n",
    "    d_count=d_count.reset_index()\n",
    "    d_count=d_count.rename(columns={\"index\":\"Word\"})\n",
    "    d_final=d_type.merge(d_count,on='Word')\n",
    "    d_final=d_final.rename_axis(index='Order')\n",
    "    d_final=d_final.drop_duplicates(subset=['Word'])#deletes redundancies\n",
    "    return d_final\n",
    "\n",
    "#Exemple\n",
    "d_sum=summary_table(sample_txt,sample_lemma)\n",
    "d_sum_CC=summary_table(sample_txt,sample_lemma_CC)\n",
    "print(d_sum.sort_values('Count',ascending=False),\"\\n\\n\", d_sum_CC.sort_values('Count',ascending=False))#tj plus efficace\n"
   ]
  },
  {
   "cell_type": "code",
   "execution_count": 68,
   "metadata": {},
   "outputs": [
    {
     "data": {
      "text/plain": [
       "<BarContainer object of 119 artists>"
      ]
     },
     "execution_count": 68,
     "metadata": {},
     "output_type": "execute_result"
    },
    {
     "data": {
      "image/png": "[encoded data removed]",
      "text/plain": [
       "<Figure size 640x480 with 1 Axes>"
      ]
     },
     "metadata": {},
     "output_type": "display_data"
    }
   ],
   "source": [
    "#Graphs\n",
    "#plt.hist(d_sum_CC)\n",
    "categories = d_sum_CC['Word']\n",
    "counts = d_sum_CC['Count']\n",
    "plt.bar(categories, counts, width=0.5)"
   ]
  }
 ],
 "metadata": {
  "kernelspec": {
   "display_name": "base",
   "language": "python",
   "name": "python3"
  },
  "language_info": {
   "codemirror_mode": {
    "name": "ipython",
    "version": 3
   },
   "file_extension": ".py",
   "mimetype": "text/x-python",
   "name": "python",
   "nbconvert_exporter": "python",
   "pygments_lexer": "ipython3",
   "version": "3.12.7"
  }
 },
 "nbformat": 4,
 "nbformat_minor": 2
}
