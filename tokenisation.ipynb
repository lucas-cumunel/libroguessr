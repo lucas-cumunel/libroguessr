{
 "cells": [
  {
   "cell_type": "markdown",
   "metadata": {},
   "source": [
    "les pip :\n",
    "spacy\n",
    "spacy-lefff\n",
    "git+https://github.com/ClaudeCoulombe/FrenchLefffLemmatizer.git\n",
    "pandas pyarrow\n",
    "(pandas fast parquet)\n",
    "\n",
    "le reste :\n",
    "spacy download fr_core_news_sm "
   ]
  },
  {
   "cell_type": "code",
   "execution_count": 2,
   "metadata": {},
   "outputs": [
    {
     "ename": "NameError",
     "evalue": "name 'pd' is not defined",
     "output_type": "error",
     "traceback": [
      "\u001b[0;31m---------------------------------------------------------------------------\u001b[0m",
      "\u001b[0;31mNameError\u001b[0m                                 Traceback (most recent call last)",
      "Cell \u001b[0;32mIn[2], line 6\u001b[0m\n\u001b[1;32m      4\u001b[0m FILE_PATH_IN_S3 \u001b[38;5;241m=\u001b[39m \u001b[38;5;124mf\u001b[39m\u001b[38;5;124m\"\u001b[39m\u001b[38;5;132;01m{\u001b[39;00mMY_BUCKET\u001b[38;5;132;01m}\u001b[39;00m\u001b[38;5;124m/diffusion/df_books.csv\u001b[39m\u001b[38;5;124m\"\u001b[39m\n\u001b[1;32m      5\u001b[0m \u001b[38;5;28;01mwith\u001b[39;00m fs\u001b[38;5;241m.\u001b[39mopen(FILE_PATH_IN_S3, \u001b[38;5;124m\"\u001b[39m\u001b[38;5;124mr\u001b[39m\u001b[38;5;124m\"\u001b[39m) \u001b[38;5;28;01mas\u001b[39;00m file_in:\n\u001b[0;32m----> 6\u001b[0m     df_books \u001b[38;5;241m=\u001b[39m \u001b[43mpd\u001b[49m\u001b[38;5;241m.\u001b[39mread_csv(file_in)\n\u001b[1;32m      7\u001b[0m df_books\n",
      "\u001b[0;31mNameError\u001b[0m: name 'pd' is not defined"
     ]
    }
   ],
   "source": [
    "import s3fs \n",
    "fs = s3fs.S3FileSystem(client_kwargs={\"endpoint_url\": \"https://minio.lab.sspcloud.fr\"})\n",
    "MY_BUCKET = \"arnaudbrrt\"\n",
    "FILE_PATH_IN_S3 = f\"{MY_BUCKET}/diffusion/df_books.csv\"\n",
    "with fs.open(FILE_PATH_IN_S3, \"r\") as file_in:\n",
    "    df_books = pd.read_csv(file_in)\n",
    "df_books"
   ]
  },
  {
   "cell_type": "code",
   "execution_count": 1,
   "metadata": {},
   "outputs": [],
   "source": [
    "#Imports\n",
    "import spacy \n",
    "#from spacy_lefff import LefffLemmatizer --> utile ?\n",
    "from french_lefff_lemmatizer.french_lefff_lemmatizer import FrenchLefffLemmatizer\n",
    "import pandas as pd\n",
    "import matplotlib.pyplot as plt\n",
    "from collections import Counter\n",
    "import re\n",
    "from sklearn.feature_extraction.text import TfidfVectorizer"
   ]
  },
  {
   "cell_type": "code",
   "execution_count": 2,
   "metadata": {},
   "outputs": [],
   "source": [
    "#Reader/set up\n",
    "#lire csv\n",
    "bla=pd.read_csv(\"/home/onyxia/libroguessr/Data/base_csv_final.csv\")\n",
    "texts=list(bla[\"Texte\"])\n",
    "#table=pd.Dataframe(data=, columns=[\"Titre\",\"Texte\"])\n",
    "nlp = spacy.load(\"fr_core_news_sm\")  #modèle français\n",
    "stop_words_fr = nlp.Defaults.stop_words #liste de stopwords fr\n"
   ]
  },
  {
   "cell_type": "markdown",
   "metadata": {},
   "source": [
    "Les fonctions"
   ]
  },
  {
   "cell_type": "code",
   "execution_count": 1,
   "metadata": {},
   "outputs": [],
   "source": [
    "#Spacy lemmatizer --> plus de nc\n",
    "def lemmatizer (txt) :\n",
    "    txt_lemma =[(t.lemma_,t.tag_) for t in nlp(txt)]\n",
    "    txt_lemma = [t for t in txt_lemma if t[0] not in stop_words_fr]#lemmes sans les stopswords\n",
    "\n",
    "    \n",
    "    return txt_lemma #peu précis (NP pas tj reconnus, vb quand faut pas...)\n",
    "\n",
    "#Claude Coulombe lemmatizer (with spacy-lefff) --> plus de vb\n",
    "def CC_lemmatizer (txt) :\n",
    "    txt_token =[t.text for t in nlp(txt)]# if t.text not in stop_words_fr]#mieux que juste split et stop_words pour éviter des erreurs de lecture\n",
    "    lemmatizer = FrenchLefffLemmatizer()\n",
    "    lemma_CC=[lemmatizer.lemmatize(t,'all')[0] for t in txt_token if len(lemmatizer.lemmatize(t,'all'))!=0]#cette fonction prend les textes et non la version fr_core_news_sm\n",
    "    txt_lemma_CC=[t for t in lemma_CC if t[0] not in stop_words_fr]#que lemmes CC\n",
    "    return txt_lemma_CC #meilleur mais perte des chiffres\n",
    "\n",
    "#Turns tokens into ngrams\n",
    "def generate_ngrams (tokens, n):\n",
    "    \n",
    "    # Replace all non-alphanumeric characters with spaces\n",
    "  \n",
    "    tokens = [re.sub(r'[^a-zA-Z0-9\\u00C0-\\u00FF]', '', s) for s in tokens]\n",
    "    # s = s.replace('\\n', '').replace('\\r', '') #for some reason the above line could not raise \\n and \\r\n",
    "    tokens=list(filter(None, tokens))\n",
    "    # Break sentence in the token, remove empty tokens\n",
    "    #tokens = [token for token in tokens.split(\" \") if token != \"\"]\n",
    "    \n",
    "    # Use the zip function to help us generate n-grams\n",
    "    # Concatentate the tokens into ngrams and return\n",
    "    ngrams = zip(*[tokens[i:] for i in range(n)])\n",
    "    return [\" \".join(ngram) for ngram in ngrams]\n",
    "\n",
    "#Implement ngrams\n",
    "def add_ngrams (t_type, t_lemma, n, t_text=None) : #option t_text pour faire des ngrams avec le texte original\n",
    "    size=len(t_lemma)\n",
    "    if t_text==None : \n",
    "        t_lemma.append(generate_ngrams(t_lemma,n))#adds ngrams\n",
    "    else : \n",
    "        t_lemma.append(generate_ngrams(t_text,n))#adds ngrams\n",
    "    t_lemma=[item for sublist in t_lemma for item in (sublist if isinstance(sublist, list) else [sublist])]#flatten\n",
    "    t_type.append([(x, 'ngram') for x in t_lemma[size:len(t_lemma)]])#adds ngram type\n",
    "    t_type=[item for sublist in t_type for item in (sublist if isinstance(sublist, list) else [sublist])]#flatten\n",
    "    return (t_type)\n",
    "\n",
    "#Stats\n",
    "def summary_table (txt_type,txt_lemma, id) :       \n",
    "    d_type=pd.DataFrame(data=txt_type, columns=['Word','Type'])\n",
    "    tk_count=Counter(txt_lemma)\n",
    "    d_count=pd.DataFrame.from_dict(data=tk_count,orient='index',columns=[\"Count\"])\n",
    "    d_count=d_count.reset_index()\n",
    "    d_count=d_count.rename(columns={\"index\":\"Word\"})\n",
    "    d_final=d_type.merge(d_count,on='Word')\n",
    "    d_final[\"Type_factor\"]=pd.factorize(d_final[\"Type\"])[0] + 1\n",
    "    d_final[\"Order\"]=d_final.index\n",
    "    d_final=d_final.drop_duplicates(subset=['Word'])#deletes redundancies\n",
    "    return d_final.assign(Id=id)\n",
    "\n",
    "#matrix utile ?\n",
    "def matrix (d, word=\"Word\",param=[\"Count\",\"Type_factor\",\"Order\"]) : #param are the parameters of each word, by default it contains the type and the frequence\n",
    "    d=d.pivot_table(index=None, columns=word, values=param, aggfunc=\"first\")\n",
    "    return d\n",
    "\n",
    "#make a dictionary that keeps the titles or add a column\n",
    "\n",
    "#TfIdf\n",
    "def Tf_Idf (sums,lemmas) :\n",
    "    voc=pd.DataFrame(columns=['Word'])\n",
    "    for s in sums :\n",
    "        voc = pd.concat([voc,s[['Word']]], ignore_index=True)\n",
    "    voc=voc['Word'].unique().tolist()\n",
    "    vectorizer = TfidfVectorizer(lowercase=False, vocabulary=voc, min_df=2)\n",
    "    #print(len([term for term in voc if Counter(voc)[term] > 1]))\n",
    "    vectors=[]\n",
    "    for l in lemmas :\n",
    "        X = vectorizer.fit_transform([\" \".join(w) for w in l])#aussi possib de faire X.toarray()\n",
    "        vectors.append(X)\n",
    "    return vectors\n",
    "\n",
    "def parquet (data, name) : \n",
    "    full=[]\n",
    "    for d in data : \n",
    "        full.append(d)\n",
    "    file=pd.concat(full, ignore_index=True)\n",
    "    file.to_parquet(f'/home/onyxia/libroguessr/Data/{name}.parquet', engine='pyarrow')\n"
   ]
  },
  {
   "cell_type": "code",
   "execution_count": 2,
   "metadata": {},
   "outputs": [
    {
     "ename": "NameError",
     "evalue": "name 'nlp' is not defined",
     "output_type": "error",
     "traceback": [
      "\u001b[0;31m---------------------------------------------------------------------------\u001b[0m",
      "\u001b[0;31mNameError\u001b[0m                                 Traceback (most recent call last)",
      "Cell \u001b[0;32mIn[2], line 1\u001b[0m\n\u001b[0;32m----> 1\u001b[0m \u001b[43mnlp\u001b[49m\u001b[38;5;241m.\u001b[39mmax_length\u001b[38;5;241m=\u001b[39m\u001b[38;5;241m100000000\u001b[39m\n\u001b[1;32m      2\u001b[0m t_lemmas\u001b[38;5;241m=\u001b[39m[]\n\u001b[1;32m      3\u001b[0m t_sums\u001b[38;5;241m=\u001b[39m[]\n",
      "\u001b[0;31mNameError\u001b[0m: name 'nlp' is not defined"
     ]
    }
   ],
   "source": [
    "nlp.max_length=100000000\n",
    "t_lemmas=[]\n",
    "t_sums=[]\n",
    "for idx,txt in enumerate(texts[10:19]) : \n",
    "    sample_type_CC,sample_lemma_CC=(CC_lemmatizer(txt),[t[0] for t in CC_lemmatizer(txt)])\n",
    "    sample_type_extended,sample_extended=(add_ngrams(sample_type_CC,sample_lemma_CC,2,[t.text for t in nlp(txt)]),[t[0] for t in add_ngrams(sample_type_CC,sample_lemma_CC,2,[t.text for t in nlp(txt)])])\n",
    "    d=pd.DataFrame(columns={\"Lemmes\": sample_extended})\n",
    "    t_lemmas.append(d.assign(Id=idx))\n",
    "    d_sum_extended=summary_table(sample_type_extended,sample_extended, idx)\n",
    "    t_sums.append(d_sum_extended)\n"
   ]
  },
  {
   "cell_type": "code",
   "execution_count": null,
   "metadata": {},
   "outputs": [],
   "source": [
    "parquet(t_lemmas,'lemmes_2')\n",
    "parquet(t_sums,'summary_2')"
   ]
  },
  {
   "cell_type": "code",
   "execution_count": null,
   "metadata": {},
   "outputs": [],
   "source": [
    "#ICI arnaud\n",
    "import pandas as pd\n",
    "from sklearn.feature_extraction.text import TfidfVectorizer\n",
    "#TfIdf\n",
    "def Tf_Idf (sums,lemmas) :\n",
    "    voc=pd.DataFrame(columns=['Word'])\n",
    "    for s in sums :\n",
    "        voc = pd.concat([voc,s[['Word']]], ignore_index=True)\n",
    "    voc=voc['Word'].unique().tolist()\n",
    "    vectorizer = TfidfVectorizer(lowercase=False, vocabulary=voc, min_df=2)\n",
    "    #print(len([term for term in voc if Counter(voc)[term] > 1]))\n",
    "    vectors=[]\n",
    "    for l in lemmas :\n",
    "        X = vectorizer.fit_transform([\" \".join(w) for w in l])#aussi possib de faire X.toarray()\n",
    "        vectors.append(X)\n",
    "    return vectors"
   ]
  },
  {
   "cell_type": "code",
   "execution_count": null,
   "metadata": {},
   "outputs": [],
   "source": [
    "t_lemmas=[v for k, v in pd.read_parquet('/home/onyxia/libroguessr/Data/lemmes.parquet', engine='pyarrow').groupby('Id')]\n",
    "t_sums=[v for k, v in pd.read_parquet('/home/onyxia/libroguessr/Data/summary.parquet', engine='pyarrow').groupby('Id')]\n",
    "vec=Tf_Idf(t_sums,t_lemmas)"
   ]
  },
  {
   "cell_type": "code",
   "execution_count": null,
   "metadata": {},
   "outputs": [],
   "source": [
    "parquet(vec)"
   ]
  },
  {
   "cell_type": "code",
   "execution_count": 6,
   "metadata": {},
   "outputs": [
    {
     "name": "stdout",
     "output_type": "stream",
     "text": [
      "          Word Type  Count  Type_factor  Order  Id\n",
      "252   brancher    v     18            5    252   8\n",
      "253     tomber    v     54            5    253   8\n",
      "254   charmant  adj      8            7    254   8\n",
      "255  fraîcheur   nc      2            6    255   8\n",
      "256   feuiller    v     17            5    256   8\n",
      "258      rayon   nc     15            6    258   8\n",
      "259     soleil   nc     37            6    259   8\n",
      "260     trouer    v      5            5    260   8\n",
      "261    ténèbre   nc     26            6    261   8\n",
      "262       vert  adj      7            7    262   8\n",
      "                             Word   Type  Count  Type_factor   Order  Id\n",
      "169795                  ne grimpe  ngram      3           16  169795   8\n",
      "95893                  s orienter  ngram      9           16   95893   8\n",
      "1822                       casser      v     13            5    1822   8\n",
      "166578                   sera ici  ngram      3           16  166578   8\n",
      "181640                  Un absolu  ngram      3           16  181640   8\n",
      "81040                    mer mais  ngram      9           16   81040   8\n",
      "182577  insaisissable introuvable  ngram      3           16  182577   8\n",
      "127499                préoccupé n  ngram      3           16  127499   8\n",
      "77518            l interrogatoire  ngram      6           16   77518   8\n",
      "181382                  vue inouï  ngram      3           16  181382   8\n",
      "Word           !     (     )      ,    -     .  1 Archive  1 Moniteur  \\\n",
      "Count        625     4     5  10001  635  7385          3           3   \n",
      "Order        597  8107  8106      8    1    37      88801      127012   \n",
      "Type_factor    8     2     3      4    2     8         16          16   \n",
      "\n",
      "Word         10 août  10 mai  ...  ôter l  ôter son  ôtes à  ôtez vos  \\\n",
      "Count             27       9  ...       3         3       3         3   \n",
      "Order         107715  118913  ...  169543    174996   92011    139819   \n",
      "Type_factor       16      16  ...      16        16      16        16   \n",
      "\n",
      "Word         ôtât le  ôtèrent leurs    ôté  ôté ces  ôté la  ôté mon  \n",
      "Count              3              3      3        3       3        3  \n",
      "Order         116270         161709  19253   192306  106912   189582  \n",
      "Type_factor       16             16      7       16      16       16  \n",
      "\n",
      "[3 rows x 77039 columns]\n"
     ]
    }
   ],
   "source": [
    "#Execution --> CC_lemma+2-grams with original text\n",
    "sample_txt=texts[8]\n",
    "sample_type_CC,sample_lemma_CC=(CC_lemmatizer(sample_txt),[t[0] for t in CC_lemmatizer(sample_txt)])\n",
    "sample_type_extended,sample_extended=(add_ngrams(sample_type_CC,sample_lemma_CC,2,[t.text for t in nlp(sample_txt)]),[t[0] for t in add_ngrams(sample_type_CC,sample_lemma_CC,2,[t.text for t in nlp(sample_txt)])])\n",
    "d_sum_extended=summary_table(sample_type_extended,sample_extended,8)\n",
    "m_final=matrix(d_sum_extended)\n",
    "\n",
    "print(d_sum_extended[150:160])\n",
    "print(d_sum_extended.sample(10))\n",
    "print(m_final)\n",
    "\n",
    "\n",
    "\n",
    "#print(sample_lemma[1400:1415],\"\\n\",sample_lemma_CC[4010:4020], \"\\n\", sample_extended[6000:6015])\n",
    "\n"
   ]
  },
  {
   "cell_type": "markdown",
   "metadata": {},
   "source": [
    "Textes trop longs parfois faire gaffe --> max 1M ou aug max avec nlp.max_length"
   ]
  },
  {
   "cell_type": "markdown",
   "metadata": {},
   "source": [
    "Tests"
   ]
  },
  {
   "cell_type": "code",
   "execution_count": null,
   "metadata": {},
   "outputs": [],
   "source": [
    "def Tf_Idf (sums,lemmas) :\n",
    "    voc=pd.DataFrame(columns='Word')\n",
    "    for s in sums : \n",
    "        voc = pd.concat([init, s['Word']], ignore_index=True)\n",
    "    vectorizer = TfidfVectorizer(lowercase=False, vocabulary=voc)\n",
    "    vectors=[]\n",
    "    for l in lemmas :\n",
    "        X = vectorizer.fit_transform([\" \".join(w) for w in l])#aussi possib de faire X.toarray()\n",
    "        vectors.append(X)\n",
    "    return vectors\n",
    "\n",
    "\n",
    "print(\"Shape of X:\", X.shape)\n",
    "\n",
    "# 2. Number of non-zero elements in the matrix\n",
    "print(\"Number of non-zero elements:\", X.nnz)\n",
    "\n",
    "# 3. Vocabulary (terms) corresponding to the columns\n",
    "vocabulary_terms = vectorizer.get_feature_names_out()\n",
    "print(\"Vocabulary terms:\", vocabulary_terms)\n"
   ]
  },
  {
   "cell_type": "code",
   "execution_count": null,
   "metadata": {},
   "outputs": [
    {
     "name": "stdout",
     "output_type": "stream",
     "text": [
      "Le malheureux Dantès désespère dans sa captivité pendant 4 ans jusqu' à songer au suicide Il a la chance de faire la connaissance de l'abbé Faria un autre prisonnier qui voulant s' évader a creusé un tunnel qui débouche non sur la mer mais dans la cellule de Dantès et sauve Dantès qui se laissait mourir de faim Edmond Dantès découvre alors en l'abbé Faria une personne exceptionnelle érudit dans tous les domaines scientifiques et philosophiques L'abbé Faria fait la lumière sur le complot machiné contre Edmond en lui montrant son écriture de la main gauche qui ressemble étrangement à celle de la lettre et en lui expliquant que M. Noirtier est en réalité le père de Villefort Ces révélations instillent la vengeance dans le cœur d' Edmond L'abbé Faria très érudit se lie d' amitié avec Dantès et lui donne une éducation exceptionnelle tant en économie qu'en sciences en politique en philosophie mais aussi en langues Faria fait une première crise de catalepsie qui le laisse paralysé d' un bras et d'une jambe rendant ainsi l'évasion qu' ils préparaient impossible Il lui fait alors part d' un secret qui le fait lui-même passer pour fou aux yeux de ses geôliers et , pendant un court moment, de Dantès il est le dépositaire d' un immense trésor celui des Spada enfoui depuis des siècles dans l'île de Monte Cristo Le vieux prêtre meurt d' un troisième accès et Edmond pensant pouvoir s' échapper prend la place du cadavre dans le linceul en se munissant d' un couteau au cas où il serait découvert Il comprend au dernier moment que tous les prisonniers morts en captivité sont jetés à la mer avec aux pieds un boulet de trente six1 au château d' If et se libère grâce à son couteau Sa captivité aura duré quinze ans Edmond nage jusqu' à l'île de Tiboulen et est récupéré par un bateau de contrebandiers avec lesquels il noue des liens C'est grâce à ce bateau sur lequel il travaille temporairement comme marin qu' il parvient à atteindre l'île de Monte Cristo Devenu très riche grâce au trésor des Spada dont il prend possession , Dantès retourne à Marseille où il apprend la mort de son père et constate la disparition de ses quatre « amis Danglars , Fernand , Caderousse et Villefort\n",
      "('NOUN', 'le malheureux dantè désespèr', 'MISC')\n",
      "('NOUN', 'son captivité', '')\n",
      "('NOUN', '4 an jusqu', '')\n",
      "('NOUN', 'suicide', '')\n",
      "('PRON', 'il', '')\n",
      "('NOUN', 'le chance', '')\n",
      "('NOUN', 'le connaissance', '')\n",
      "('NOUN', 'leabbé', '')\n",
      "('NOUN', 'un autre prisonnier', '')\n",
      "('PRON', 'qui', '')\n",
      "('NOUN', 'un tunnel', '')\n",
      "('PRON', 'qui', '')\n",
      "('NOUN', 'dans le cellule', '')\n",
      "('NOUN', 'dantè', 'LOC')\n",
      "('NOUN', 'dantè', 'LOC')\n",
      "('PRON', 'qui', '')\n",
      "('NOUN', 'faim', '')\n",
      "('PROPN', 'Edmond Dantès', 'PER')\n",
      "('NOUN', 'alors en leabbé faria', '')\n",
      "('NOUN', 'tout le domaine scientifique', '')\n",
      "('NOUN', 'leabbé', 'PER')\n",
      "('NOUN', 'faria', 'PER')\n",
      "('NOUN', 'le lumière', '')\n",
      "('NOUN', 'le complot', '')\n",
      "('PROPN', 'Edmond', 'PER')\n",
      "('NOUN', 'son écriture', '')\n",
      "('NOUN', 'le main gauche', '')\n",
      "('PRON', 'qui', '')\n",
      "('PRON', 'celui', '')\n",
      "('NOUN', 'le lettre', '')\n",
      "('PRON', 'luire', '')\n",
      "('NOUN', 'm. Noirtier', 'PER')\n",
      "('NOUN', 'le père', '')\n",
      "('PROPN', 'Villefort', 'LOC')\n",
      "('NOUN', 'ce révélation', '')\n",
      "('NOUN', 'le vengeance', '')\n",
      "('NOUN', 'le cœur', '')\n",
      "('PROPN', \"' Edmond\", 'PER')\n",
      "('NOUN', 'leabbé faria', '')\n",
      "('NOUN', 'dantè', 'PER')\n",
      "('NOUN', 'un éducation exceptionnel', '')\n",
      "('NOUN', 'tant en économie', '')\n",
      "('NOUN', 'politique', '')\n",
      "('NOUN', 'philosophie', '')\n",
      "('PROPN', 'aussi en langue Faria', '')\n",
      "('NOUN', 'un premier crise', '')\n",
      "('NOUN', 'catalepsie', '')\n",
      "('PRON', 'qui', '')\n",
      "('PRON', 'le', '')\n",
      "('NOUN', \"' un bras\", '')\n",
      "('NOUN', 'deun jambe', '')\n",
      "('NOUN', 'leévasion', '')\n",
      "('PRON', 'il', '')\n",
      "('NOUN', 'part', '')\n",
      "('NOUN', \"' un secret\", '')\n",
      "('PRON', 'qui', '')\n",
      "('PRON', 'le', '')\n",
      "('NOUN', 'oeil', '')\n",
      "('NOUN', 'son geôlier', '')\n",
      "('NOUN', ', pendant un court moment', '')\n",
      "('PROPN', 'Dantès', 'LOC')\n",
      "('PRON', 'il', '')\n",
      "('NOUN', \"' un immense trésor celui de spada enfouir depuis un siècle dans leîle de Monte Cristo\", '')\n",
      "('NOUN', 'le vieux prêtre', '')\n",
      "('NOUN', \"' un troisième accès\", '')\n",
      "('PROPN', 'Edmond', 'PER')\n",
      "('NOUN', 'le place', '')\n",
      "('NOUN', 'cadavre', '')\n",
      "('NOUN', 'le linceul', '')\n",
      "('NOUN', \"' un couteau\", '')\n",
      "('NOUN', 'cas', '')\n",
      "('PRON', 'il', '')\n",
      "('PRON', 'il', '')\n",
      "('NOUN', 'dernier moment', '')\n",
      "('NOUN', 'tout le prisonnier mourir', '')\n",
      "('NOUN', 'captivité', '')\n",
      "('NOUN', 'à pied', '')\n",
      "('NOUN', 'un boulet', '')\n",
      "('NOUN', 'château', 'LOC')\n",
      "('NOUN', \"' if\", 'LOC')\n",
      "('NOUN', 'grâce à son couteau', '')\n",
      "('NOUN', 'son captivité', 'MISC')\n",
      "('NOUN', 'quinze an', 'MISC')\n",
      "('PROPN', 'Edmond nage jusqu', 'MISC')\n",
      "('NOUN', 'leîle', '')\n",
      "('PROPN', 'Tiboulen', 'LOC')\n",
      "('NOUN', 'un bateau', '')\n",
      "('NOUN', 'contrebandier', '')\n",
      "('PRON', 'lequel', '')\n",
      "('PRON', 'il', '')\n",
      "('NOUN', 'un lien', '')\n",
      "('NOUN', 'ceêtre grâce à ce bateau', '')\n",
      "('PRON', 'lequel', '')\n",
      "('PRON', 'il', '')\n",
      "('PRON', 'il', '')\n",
      "('NOUN', 'leîle', '')\n",
      "('PROPN', 'Monte Cristo', 'LOC')\n",
      "('NOUN', 'grâce au trésor', '')\n",
      "('NOUN', 'spada', 'LOC')\n",
      "('PRON', 'il', '')\n",
      "('PROPN', 'Marseille', 'LOC')\n",
      "('PRON', 'il', '')\n",
      "('NOUN', 'le mort', '')\n",
      "('NOUN', 'son père', '')\n",
      "('NOUN', 'le disparition', '')\n",
      "('NOUN', 'son quatre «', '')\n",
      "('PROPN', 'Danglars', 'PER')\n",
      "('PROPN', ', Fernand', 'PER')\n",
      "('PROPN', ', Caderousse', 'LOC')\n",
      "('PROPN', 'Villefort', 'LOC')\n"
     ]
    },
    {
     "ename": "AttributeError",
     "evalue": "'str' object has no attribute 'text'",
     "output_type": "error",
     "traceback": [
      "\u001b[0;31m---------------------------------------------------------------------------\u001b[0m",
      "\u001b[0;31mAttributeError\u001b[0m                            Traceback (most recent call last)",
      "Cell \u001b[0;32mIn[121], line 26\u001b[0m\n\u001b[1;32m     23\u001b[0m \u001b[38;5;28;01mfor\u001b[39;00m noun_phrase \u001b[38;5;129;01min\u001b[39;00m \u001b[38;5;28mlist\u001b[39m(nlp(doc)\u001b[38;5;241m.\u001b[39mnoun_chunks):\n\u001b[1;32m     24\u001b[0m     \u001b[38;5;28mprint\u001b[39m((noun_phrase\u001b[38;5;241m.\u001b[39mroot\u001b[38;5;241m.\u001b[39mtag_, noun_phrase\u001b[38;5;241m.\u001b[39mroot\u001b[38;5;241m.\u001b[39mlemma_, noun_phrase\u001b[38;5;241m.\u001b[39mroot\u001b[38;5;241m.\u001b[39ment_type_))\n\u001b[0;32m---> 26\u001b[0m \u001b[38;5;28mprint\u001b[39m([(\u001b[43mtoken\u001b[49m\u001b[38;5;241;43m.\u001b[39;49m\u001b[43mtext\u001b[49m,token\u001b[38;5;241m.\u001b[39mpos_) \u001b[38;5;28;01mfor\u001b[39;00m token \u001b[38;5;129;01min\u001b[39;00m doc])\n",
      "\u001b[0;31mAttributeError\u001b[0m: 'str' object has no attribute 'text'"
     ]
    }
   ],
   "source": [
    "#mots/lemma/mots+phrases/lemma+phrases\n",
    "#tf-idf\n",
    "#nlp.add_pipe(\"sentencizer\")\n",
    "\n",
    "bla=\" \".join(x for x in sample_lemma_CC)\n",
    "bla=sample_txt\n",
    "doc = list( x.text for x in nlp(bla) if not x.is_punct)\n",
    "doc=\" \".join(x for x in doc)\n",
    "\n",
    "\n",
    "#nlp.add_pipe(\"merge_noun_chunks\")\n",
    "#for sent in doc.sents:\n",
    "#    print(sent.vector,\"///\")\n",
    "\n",
    "#for chunk in doc.noun_chunks:\n",
    "#   print(chunk.text,\"///\", chunk.root.head.text, \"///\")\n",
    "#doc.similarity(nlp(sample_txt))    , chunk.root.text, chunk.root.dep_,\n",
    "#          chunk.root.head.text,\n",
    "#print(doc.sents)\n",
    "#print([(i, i.label_, i.label) for i in doc.ents])\n",
    "print(nlp(doc))\n",
    "\n",
    "\n",
    "for noun_phrase in list(nlp(doc).noun_chunks):\n",
    "    print((noun_phrase.root.tag_, noun_phrase.root.lemma_, noun_phrase.root.ent_type_))\n",
    " \n",
    "print([(token.text,token.pos_) for token in doc])"
   ]
  },
  {
   "cell_type": "code",
   "execution_count": 58,
   "metadata": {},
   "outputs": [
    {
     "data": {
      "image/png": "[encoded data removed]",
      "text/plain": [
       "<Figure size 640x480 with 1 Axes>"
      ]
     },
     "metadata": {},
     "output_type": "display_data"
    }
   ],
   "source": [
    "#Graphs\n",
    "#plt.hist(d_sum_CC)\n",
    "d_sorted=d_sum_CC.sort_values('Count',ascending=False).head(15)\n",
    "plt.bar(d_sorted['Word'], d_sorted['Count'], width=0.5)\n",
    "plt.xticks(rotation='vertical')\n",
    "plt.yticks(range(0,max(d_sorted['Count']),500))\n",
    "plt.xlabel(\"Words\")\n",
    "plt.ylabel(\"Frequency\")\n",
    "plt.grid(axis=\"y\")\n",
    "plt.show()"
   ]
  },
  {
   "cell_type": "code",
   "execution_count": null,
   "metadata": {},
   "outputs": [],
   "source": [
    "\"\"\"\n",
    "import nltk\n",
    "nltk.download(\"stopwords\")\n",
    "nltk.download(\"punkt\")\n",
    "nltk.download(\"genesis\")\n",
    "nltk.download(\"wordnet\")\n",
    "nltk.download(\"omw-1.4\")\n",
    "\n",
    "from nltk.stem import WordNetLemmatizer\n",
    "\"\"\"\n",
    "#pas sûr de l'utilité de nltk\n",
    "\n",
    "\n",
    "\"\"\"\n",
    "pos = POSTagger()\n",
    "french_lemmatizer = LefffLemmatizer(after_melt=True)\n",
    "nlp.add_pipe(name='pos', after='parser')\n",
    "nlp.add_pipe(french_lemmatizer, name='lefff', after='pos')\n",
    "\n",
    "test=[d._.lefff_lemma for d in txt]\n",
    "from spacy_lefff import LefffLemmatizer,POSTagger\n",
    "test\n",
    "\n",
    "\n",
    "french_lemmatizer = LefffLemmatizer(after_melt=True)\n",
    "\"\"\""
   ]
  },
  {
   "cell_type": "code",
   "execution_count": 59,
   "metadata": {},
   "outputs": [
    {
     "data": {
      "image/png": "[encoded data removed]",
      "text/plain": [
       "<Figure size 640x480 with 1 Axes>"
      ]
     },
     "metadata": {},
     "output_type": "display_data"
    }
   ],
   "source": [
    "d=d_sum_CC['Type'].value_counts()\n",
    "plt.bar(d.index, d.values, width=0.5)\n",
    "plt.xticks(rotation='vertical')\n",
    "plt.yticks(range(0,max(d_sum_CC['Type'].value_counts().values),500))\n",
    "plt.xlabel(\"Words\")\n",
    "plt.ylabel(\"Frequency\")\n",
    "plt.grid(axis=\"y\")\n",
    "plt.show()"
   ]
  }
 ],
 "metadata": {
  "kernelspec": {
   "display_name": "base",
   "language": "python",
   "name": "python3"
  },
  "language_info": {
   "codemirror_mode": {
    "name": "ipython",
    "version": 3
   },
   "file_extension": ".py",
   "mimetype": "text/x-python",
   "name": "python",
   "nbconvert_exporter": "python",
   "pygments_lexer": "ipython3",
   "version": "3.12.7"
  }
 },
 "nbformat": 4,
 "nbformat_minor": 2
}
